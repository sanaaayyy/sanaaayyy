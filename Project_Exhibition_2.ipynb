{
  "nbformat": 4,
  "nbformat_minor": 0,
  "metadata": {
    "colab": {
      "provenance": [],
      "include_colab_link": true
    },
    "kernelspec": {
      "name": "python3",
      "display_name": "Python 3"
    },
    "language_info": {
      "name": "python"
    }
  },
  "cells": [
    {
      "cell_type": "markdown",
      "metadata": {
        "id": "view-in-github",
        "colab_type": "text"
      },
      "source": [
        "<a href=\"https://colab.research.google.com/github/sanaaayyy/sanaaayyy/blob/main/Project_Exhibition_2.ipynb\" target=\"_parent\"><img src=\"https://colab.research.google.com/assets/colab-badge.svg\" alt=\"Open In Colab\"/></a>"
      ]
    },
    {
      "cell_type": "markdown",
      "source": [
        "# **Prediction Model** of exit polls and opinion polls in india using Linear Regression Model."
      ],
      "metadata": {
        "id": "0udaxkcrh1RW"
      }
    },
    {
      "cell_type": "code",
      "source": [
        "from google.colab import drive\n",
        "drive.mount('/content/drive')"
      ],
      "metadata": {
        "colab": {
          "base_uri": "https://localhost:8080/"
        },
        "id": "GaSOHxAoWUXC",
        "outputId": "e4981a65-b8fb-4095-dd74-bc94c4f15fdf"
      },
      "execution_count": null,
      "outputs": [
        {
          "output_type": "stream",
          "name": "stdout",
          "text": [
            "Mounted at /content/drive\n"
          ]
        }
      ]
    },
    {
      "cell_type": "code",
      "execution_count": null,
      "metadata": {
        "id": "5GRjns-HrImt"
      },
      "outputs": [],
      "source": [
        "#importing libraries\n",
        "import numpy as np\n",
        "import pandas as pd\n",
        "import re # re module provides regular expression matching operations\n",
        "from sklearn.feature_extraction.text import TfidfVectorizer\n",
        "from sklearn.model_selection import train_test_split, GridSearchCV\n",
        "from sklearn.metrics import accuracy_score\n",
        "from sklearn.preprocessing import MinMaxScaler # MinMaxScaler scales the input data by subtracting the minimum value and dividing the range (i.e., the difference between the minimum and maximum values) of each feature.\n",
        "from sklearn.preprocessing import LabelEncoder, OneHotEncoder #imports the LabelEncoder and OneHotEncoder classes from the sklearn.preprocessing module.\n",
        "#The LabelEncoder is used to convert categorical labels to numerical values and the OneHotEncoder is used to convert categorical integer features to a one-hot encoded representation. These classes can be used as preprocessing steps in a machine learning pipeline to convert categorical features of the input data into a numerical representation that can be used by a model."
      ]
    },
    {
      "cell_type": "markdown",
      "source": [
        "The code imports several libraries that are commonly used for machine learning tasks, such as:\n",
        "\n",
        "*   numpy for numerical computations\n",
        "*   pandas for data manipulation and analysis\n",
        "*   TfidfVectorizer from sklearn.feature_extraction.text for converting text data into numerical data in the form of Tf-Idf features.\n",
        "*   train_test_split from sklearn.model_selection for splitting the data into training and testing sets.\n",
        "*   accuracy_score from sklearn.metrics for evaluating the performance of the model by computing the accuracy score.\n",
        "\n",
        "\n",
        "\n",
        "\n",
        "\n",
        "\n",
        "\n",
        "\n",
        "\n",
        "\n",
        "\n",
        "\n"
      ],
      "metadata": {
        "id": "pQqifByh8j-f"
      }
    },
    {
      "cell_type": "code",
      "source": [
        "#importing dataset\n",
        "df = pd.read_csv('/content/drive/MyDrive/Project-Exhibition-2/Dataset/Loksabha_1962-2019 .csv' , delimiter=',') \n",
        "# delimiter separates the values in each row of the file into separate columns."
      ],
      "metadata": {
        "id": "7MStT08WrcFP"
      },
      "execution_count": null,
      "outputs": []
    },
    {
      "cell_type": "code",
      "source": [
        "#Load DataFrame\n",
        "df.head()"
      ],
      "metadata": {
        "colab": {
          "base_uri": "https://localhost:8080/",
          "height": 206
        },
        "id": "2xHSAYgMsJf4",
        "outputId": "415d8c3b-c2cb-45c9-f046-2d3a122fbe85"
      },
      "execution_count": null,
      "outputs": [
        {
          "output_type": "execute_result",
          "data": {
            "text/plain": [
              "      Pc_name   no type                        state  \\\n",
              "0    Adilabad   36  GEN               Andhra Pradesh   \n",
              "1       Adoni   27  GEN               Andhra Pradesh   \n",
              "2        Agra  433  GEN  Uttar Pradesh [1947 - 1999]   \n",
              "3   Ahmedabad  120  GEN                      Gujarat   \n",
              "4  Ahmednagar  245  GEN                  Maharashtra   \n",
              "\n",
              "               candidate_name                             party  electors  \\\n",
              "0            G. Narayan Reddy          Indian National Congress  4,04,283   \n",
              "1  Pendekanti Venkatasubbaiah          Indian National Congress  4,19,077   \n",
              "2            Seth Achal Singh          Indian National Congress  4,33,164   \n",
              "3   Indulal Kanaiyalal Yagnik  Nutan Maha Gujarat Janta Parisha  4,33,392   \n",
              "4   Motilal Kundanmal Firodya          Indian National Congress  4,03,913   \n",
              "\n",
              "      votes Turnout  margin margin%    year  \n",
              "0  2,20,383  54.5 %  89,085  40.40%  1962.0  \n",
              "1  2,52,379  60.2 %  33,022  13.10%  1962.0  \n",
              "2  2,75,663  63.6 %  54,351  19.70%  1962.0  \n",
              "3  2,70,346  62.4 %  21,592   8.00%  1962.0  \n",
              "4  2,22,091  55.0 %  14,038   6.30%  1962.0  "
            ],
            "text/html": [
              "\n",
              "  <div id=\"df-4393f582-ad23-438c-91da-625a71e74c03\">\n",
              "    <div class=\"colab-df-container\">\n",
              "      <div>\n",
              "<style scoped>\n",
              "    .dataframe tbody tr th:only-of-type {\n",
              "        vertical-align: middle;\n",
              "    }\n",
              "\n",
              "    .dataframe tbody tr th {\n",
              "        vertical-align: top;\n",
              "    }\n",
              "\n",
              "    .dataframe thead th {\n",
              "        text-align: right;\n",
              "    }\n",
              "</style>\n",
              "<table border=\"1\" class=\"dataframe\">\n",
              "  <thead>\n",
              "    <tr style=\"text-align: right;\">\n",
              "      <th></th>\n",
              "      <th>Pc_name</th>\n",
              "      <th>no</th>\n",
              "      <th>type</th>\n",
              "      <th>state</th>\n",
              "      <th>candidate_name</th>\n",
              "      <th>party</th>\n",
              "      <th>electors</th>\n",
              "      <th>votes</th>\n",
              "      <th>Turnout</th>\n",
              "      <th>margin</th>\n",
              "      <th>margin%</th>\n",
              "      <th>year</th>\n",
              "    </tr>\n",
              "  </thead>\n",
              "  <tbody>\n",
              "    <tr>\n",
              "      <th>0</th>\n",
              "      <td>Adilabad</td>\n",
              "      <td>36</td>\n",
              "      <td>GEN</td>\n",
              "      <td>Andhra Pradesh</td>\n",
              "      <td>G. Narayan Reddy</td>\n",
              "      <td>Indian National Congress</td>\n",
              "      <td>4,04,283</td>\n",
              "      <td>2,20,383</td>\n",
              "      <td>54.5 %</td>\n",
              "      <td>89,085</td>\n",
              "      <td>40.40%</td>\n",
              "      <td>1962.0</td>\n",
              "    </tr>\n",
              "    <tr>\n",
              "      <th>1</th>\n",
              "      <td>Adoni</td>\n",
              "      <td>27</td>\n",
              "      <td>GEN</td>\n",
              "      <td>Andhra Pradesh</td>\n",
              "      <td>Pendekanti Venkatasubbaiah</td>\n",
              "      <td>Indian National Congress</td>\n",
              "      <td>4,19,077</td>\n",
              "      <td>2,52,379</td>\n",
              "      <td>60.2 %</td>\n",
              "      <td>33,022</td>\n",
              "      <td>13.10%</td>\n",
              "      <td>1962.0</td>\n",
              "    </tr>\n",
              "    <tr>\n",
              "      <th>2</th>\n",
              "      <td>Agra</td>\n",
              "      <td>433</td>\n",
              "      <td>GEN</td>\n",
              "      <td>Uttar Pradesh [1947 - 1999]</td>\n",
              "      <td>Seth Achal Singh</td>\n",
              "      <td>Indian National Congress</td>\n",
              "      <td>4,33,164</td>\n",
              "      <td>2,75,663</td>\n",
              "      <td>63.6 %</td>\n",
              "      <td>54,351</td>\n",
              "      <td>19.70%</td>\n",
              "      <td>1962.0</td>\n",
              "    </tr>\n",
              "    <tr>\n",
              "      <th>3</th>\n",
              "      <td>Ahmedabad</td>\n",
              "      <td>120</td>\n",
              "      <td>GEN</td>\n",
              "      <td>Gujarat</td>\n",
              "      <td>Indulal Kanaiyalal Yagnik</td>\n",
              "      <td>Nutan Maha Gujarat Janta Parisha</td>\n",
              "      <td>4,33,392</td>\n",
              "      <td>2,70,346</td>\n",
              "      <td>62.4 %</td>\n",
              "      <td>21,592</td>\n",
              "      <td>8.00%</td>\n",
              "      <td>1962.0</td>\n",
              "    </tr>\n",
              "    <tr>\n",
              "      <th>4</th>\n",
              "      <td>Ahmednagar</td>\n",
              "      <td>245</td>\n",
              "      <td>GEN</td>\n",
              "      <td>Maharashtra</td>\n",
              "      <td>Motilal Kundanmal Firodya</td>\n",
              "      <td>Indian National Congress</td>\n",
              "      <td>4,03,913</td>\n",
              "      <td>2,22,091</td>\n",
              "      <td>55.0 %</td>\n",
              "      <td>14,038</td>\n",
              "      <td>6.30%</td>\n",
              "      <td>1962.0</td>\n",
              "    </tr>\n",
              "  </tbody>\n",
              "</table>\n",
              "</div>\n",
              "      <button class=\"colab-df-convert\" onclick=\"convertToInteractive('df-4393f582-ad23-438c-91da-625a71e74c03')\"\n",
              "              title=\"Convert this dataframe to an interactive table.\"\n",
              "              style=\"display:none;\">\n",
              "        \n",
              "  <svg xmlns=\"http://www.w3.org/2000/svg\" height=\"24px\"viewBox=\"0 0 24 24\"\n",
              "       width=\"24px\">\n",
              "    <path d=\"M0 0h24v24H0V0z\" fill=\"none\"/>\n",
              "    <path d=\"M18.56 5.44l.94 2.06.94-2.06 2.06-.94-2.06-.94-.94-2.06-.94 2.06-2.06.94zm-11 1L8.5 8.5l.94-2.06 2.06-.94-2.06-.94L8.5 2.5l-.94 2.06-2.06.94zm10 10l.94 2.06.94-2.06 2.06-.94-2.06-.94-.94-2.06-.94 2.06-2.06.94z\"/><path d=\"M17.41 7.96l-1.37-1.37c-.4-.4-.92-.59-1.43-.59-.52 0-1.04.2-1.43.59L10.3 9.45l-7.72 7.72c-.78.78-.78 2.05 0 2.83L4 21.41c.39.39.9.59 1.41.59.51 0 1.02-.2 1.41-.59l7.78-7.78 2.81-2.81c.8-.78.8-2.07 0-2.86zM5.41 20L4 18.59l7.72-7.72 1.47 1.35L5.41 20z\"/>\n",
              "  </svg>\n",
              "      </button>\n",
              "      \n",
              "  <style>\n",
              "    .colab-df-container {\n",
              "      display:flex;\n",
              "      flex-wrap:wrap;\n",
              "      gap: 12px;\n",
              "    }\n",
              "\n",
              "    .colab-df-convert {\n",
              "      background-color: #E8F0FE;\n",
              "      border: none;\n",
              "      border-radius: 50%;\n",
              "      cursor: pointer;\n",
              "      display: none;\n",
              "      fill: #1967D2;\n",
              "      height: 32px;\n",
              "      padding: 0 0 0 0;\n",
              "      width: 32px;\n",
              "    }\n",
              "\n",
              "    .colab-df-convert:hover {\n",
              "      background-color: #E2EBFA;\n",
              "      box-shadow: 0px 1px 2px rgba(60, 64, 67, 0.3), 0px 1px 3px 1px rgba(60, 64, 67, 0.15);\n",
              "      fill: #174EA6;\n",
              "    }\n",
              "\n",
              "    [theme=dark] .colab-df-convert {\n",
              "      background-color: #3B4455;\n",
              "      fill: #D2E3FC;\n",
              "    }\n",
              "\n",
              "    [theme=dark] .colab-df-convert:hover {\n",
              "      background-color: #434B5C;\n",
              "      box-shadow: 0px 1px 3px 1px rgba(0, 0, 0, 0.15);\n",
              "      filter: drop-shadow(0px 1px 2px rgba(0, 0, 0, 0.3));\n",
              "      fill: #FFFFFF;\n",
              "    }\n",
              "  </style>\n",
              "\n",
              "      <script>\n",
              "        const buttonEl =\n",
              "          document.querySelector('#df-4393f582-ad23-438c-91da-625a71e74c03 button.colab-df-convert');\n",
              "        buttonEl.style.display =\n",
              "          google.colab.kernel.accessAllowed ? 'block' : 'none';\n",
              "\n",
              "        async function convertToInteractive(key) {\n",
              "          const element = document.querySelector('#df-4393f582-ad23-438c-91da-625a71e74c03');\n",
              "          const dataTable =\n",
              "            await google.colab.kernel.invokeFunction('convertToInteractive',\n",
              "                                                     [key], {});\n",
              "          if (!dataTable) return;\n",
              "\n",
              "          const docLinkHtml = 'Like what you see? Visit the ' +\n",
              "            '<a target=\"_blank\" href=https://colab.research.google.com/notebooks/data_table.ipynb>data table notebook</a>'\n",
              "            + ' to learn more about interactive tables.';\n",
              "          element.innerHTML = '';\n",
              "          dataTable['output_type'] = 'display_data';\n",
              "          await google.colab.output.renderOutput(dataTable, element);\n",
              "          const docLink = document.createElement('div');\n",
              "          docLink.innerHTML = docLinkHtml;\n",
              "          element.appendChild(docLink);\n",
              "        }\n",
              "      </script>\n",
              "    </div>\n",
              "  </div>\n",
              "  "
            ]
          },
          "metadata": {},
          "execution_count": 42
        }
      ]
    },
    {
      "cell_type": "code",
      "source": [
        "df['Pc_name'].describe()"
      ],
      "metadata": {
        "colab": {
          "base_uri": "https://localhost:8080/"
        },
        "id": "HA1mYbLTR-Qn",
        "outputId": "1fcaba29-8b42-4497-fadc-380e94e61d50"
      },
      "execution_count": null,
      "outputs": [
        {
          "output_type": "execute_result",
          "data": {
            "text/plain": [
              "count           8047\n",
              "unique           895\n",
              "top       Aurangabad\n",
              "freq              30\n",
              "Name: Pc_name, dtype: object"
            ]
          },
          "metadata": {},
          "execution_count": 43
        }
      ]
    },
    {
      "cell_type": "code",
      "source": [
        "print(df)"
      ],
      "metadata": {
        "colab": {
          "base_uri": "https://localhost:8080/"
        },
        "id": "z-L-xOWWsNE7",
        "outputId": "07e0c104-0bf5-42b7-e518-a69435ccd52f"
      },
      "execution_count": null,
      "outputs": [
        {
          "output_type": "stream",
          "name": "stdout",
          "text": [
            "             Pc_name   no type                        state  \\\n",
            "0           Adilabad   36  GEN               Andhra Pradesh   \n",
            "1              Adoni   27  GEN               Andhra Pradesh   \n",
            "2               Agra  433  GEN  Uttar Pradesh [1947 - 1999]   \n",
            "3          Ahmedabad  120  GEN                      Gujarat   \n",
            "4         Ahmednagar  245  GEN                  Maharashtra   \n",
            "...              ...  ...  ...                          ...   \n",
            "8042          Wardha    8  GEN                  Maharashtra   \n",
            "8043         Wayanad    4  GEN                       Kerala   \n",
            "8044      West Delhi    6  GEN         Delhi [1977 Onwards]   \n",
            "8045  Yavatmal-Washi   14  GEN                  Maharashtra   \n",
            "8046       Zahirabad    5  GEN                    Telangana   \n",
            "\n",
            "                  candidate_name                             party   electors  \\\n",
            "0               G. Narayan Reddy          Indian National Congress   4,04,283   \n",
            "1     Pendekanti Venkatasubbaiah          Indian National Congress   4,19,077   \n",
            "2               Seth Achal Singh          Indian National Congress   4,33,164   \n",
            "3      Indulal Kanaiyalal Yagnik  Nutan Maha Gujarat Janta Parisha   4,33,392   \n",
            "4      Motilal Kundanmal Firodya          Indian National Congress   4,03,913   \n",
            "...                          ...                               ...        ...   \n",
            "8042  Ramdas Chandrabhanji Tadas             Bharatiya Janta Party  16,79,788   \n",
            "8043                Rahul Gandhi          Indian National Congress  13,06,141   \n",
            "8044           Sant Prasad Sinha             Bharatiya Janta Party  20,39,410   \n",
            "8045   Bhavana Pundlikrao Gawali                         Shiv Sena  18,12,059   \n",
            "8046                   B.B.Patil         Telangana Rashtra Samithi  14,11,026   \n",
            "\n",
            "          votes Turnout    margin margin%    year  \n",
            "0      2,20,383  54.5 %    89,085  40.40%  1962.0  \n",
            "1      2,52,379  60.2 %    33,022  13.10%  1962.0  \n",
            "2      2,75,663  63.6 %    54,351  19.70%  1962.0  \n",
            "3      2,70,346  62.4 %    21,592   8.00%  1962.0  \n",
            "4      2,22,091  55.0 %    14,038   6.30%  1962.0  \n",
            "...         ...     ...       ...     ...     ...  \n",
            "8042  10,72,570  64.2 %  1,87,191  17.50%  2019.0  \n",
            "8043  10,92,197  83.8 %  4,31,770  39.50%  2019.0  \n",
            "8044  14,41,601  71.1 %  5,78,486  40.10%  2019.0  \n",
            "8045  11,74,220  65.0 %  1,17,939  10.00%  2019.0  \n",
            "8046  10,44,365  74.8 %     6,229   0.60%  2019.0  \n",
            "\n",
            "[8047 rows x 12 columns]\n"
          ]
        }
      ]
    },
    {
      "cell_type": "code",
      "source": [
        "#Encoding or feature encoding\n",
        "dict_pc_name = {}\n",
        "global curr\n",
        "curr = 0\n",
        "def My_Encoder(idx):\n",
        "  if dict_pc_name.get(idx) is not None:\n",
        "    return dict_pc_name.get(idx)\n",
        "  else:\n",
        "    temp = len(dict_pc_name)+1\n",
        "    dict_pc_name[idx] = temp\n",
        "    return temp\n",
        "df['New_Pc_name'] = df['Pc_name'].apply(lambda i: My_Encoder(i))"
      ],
      "metadata": {
        "id": "xFo1W_Inwuc5"
      },
      "execution_count": null,
      "outputs": []
    },
    {
      "cell_type": "markdown",
      "source": [
        "The code starts by defining a dictionary dict_pc_name and a global variable curr that keeps track of the number of unique values in 'Pc_name' that have been encountered so far.\n",
        "\n",
        "The function My_Encoder is then defined. It takes an argument idx, which is a value from the 'Pc_name' column. The function first checks if idx is already a key in the dict_pc_name dictionary. If it is, the function returns the corresponding value (i.e., the encoded value). If it is not, the function creates a new key-value pair in the dictionary, where the key is idx and the value is the current value of curr plus one. The function then returns the new value.\n",
        "\n",
        "Finally, the apply method is used to apply the My_Encoder function to each value in the 'Pc_name' column. The resulting values are stored in the new column 'New_Pc_name'."
      ],
      "metadata": {
        "id": "-BB1zxBALynG"
      }
    },
    {
      "cell_type": "code",
      "source": [
        "df1 = df.drop(['Pc_name','no','Turnout','margin','margin%','year'],axis=1)\n",
        "# the columns Pc_name, no, Turnout, margin, margin%, and year are dropped from the original dataframe df.\n",
        "# The parameter axis=1 specifies that the operation should be performed on columns."
      ],
      "metadata": {
        "id": "Cyz20w42w1OW"
      },
      "execution_count": null,
      "outputs": []
    },
    {
      "cell_type": "code",
      "source": [
        "df1.head()"
      ],
      "metadata": {
        "colab": {
          "base_uri": "https://localhost:8080/",
          "height": 206
        },
        "id": "ym_Hg8vCw32N",
        "outputId": "1a47f94d-2b38-4861-8191-9ea4eaeef7d6"
      },
      "execution_count": null,
      "outputs": [
        {
          "output_type": "execute_result",
          "data": {
            "text/plain": [
              "  type                        state              candidate_name  \\\n",
              "0  GEN               Andhra Pradesh            G. Narayan Reddy   \n",
              "1  GEN               Andhra Pradesh  Pendekanti Venkatasubbaiah   \n",
              "2  GEN  Uttar Pradesh [1947 - 1999]            Seth Achal Singh   \n",
              "3  GEN                      Gujarat   Indulal Kanaiyalal Yagnik   \n",
              "4  GEN                  Maharashtra   Motilal Kundanmal Firodya   \n",
              "\n",
              "                              party  electors     votes  New_Pc_name  \n",
              "0          Indian National Congress  4,04,283  2,20,383            1  \n",
              "1          Indian National Congress  4,19,077  2,52,379            2  \n",
              "2          Indian National Congress  4,33,164  2,75,663            3  \n",
              "3  Nutan Maha Gujarat Janta Parisha  4,33,392  2,70,346            4  \n",
              "4          Indian National Congress  4,03,913  2,22,091            5  "
            ],
            "text/html": [
              "\n",
              "  <div id=\"df-a0bcf8b2-37ef-4ae3-9e00-f5e3eb56477e\">\n",
              "    <div class=\"colab-df-container\">\n",
              "      <div>\n",
              "<style scoped>\n",
              "    .dataframe tbody tr th:only-of-type {\n",
              "        vertical-align: middle;\n",
              "    }\n",
              "\n",
              "    .dataframe tbody tr th {\n",
              "        vertical-align: top;\n",
              "    }\n",
              "\n",
              "    .dataframe thead th {\n",
              "        text-align: right;\n",
              "    }\n",
              "</style>\n",
              "<table border=\"1\" class=\"dataframe\">\n",
              "  <thead>\n",
              "    <tr style=\"text-align: right;\">\n",
              "      <th></th>\n",
              "      <th>type</th>\n",
              "      <th>state</th>\n",
              "      <th>candidate_name</th>\n",
              "      <th>party</th>\n",
              "      <th>electors</th>\n",
              "      <th>votes</th>\n",
              "      <th>New_Pc_name</th>\n",
              "    </tr>\n",
              "  </thead>\n",
              "  <tbody>\n",
              "    <tr>\n",
              "      <th>0</th>\n",
              "      <td>GEN</td>\n",
              "      <td>Andhra Pradesh</td>\n",
              "      <td>G. Narayan Reddy</td>\n",
              "      <td>Indian National Congress</td>\n",
              "      <td>4,04,283</td>\n",
              "      <td>2,20,383</td>\n",
              "      <td>1</td>\n",
              "    </tr>\n",
              "    <tr>\n",
              "      <th>1</th>\n",
              "      <td>GEN</td>\n",
              "      <td>Andhra Pradesh</td>\n",
              "      <td>Pendekanti Venkatasubbaiah</td>\n",
              "      <td>Indian National Congress</td>\n",
              "      <td>4,19,077</td>\n",
              "      <td>2,52,379</td>\n",
              "      <td>2</td>\n",
              "    </tr>\n",
              "    <tr>\n",
              "      <th>2</th>\n",
              "      <td>GEN</td>\n",
              "      <td>Uttar Pradesh [1947 - 1999]</td>\n",
              "      <td>Seth Achal Singh</td>\n",
              "      <td>Indian National Congress</td>\n",
              "      <td>4,33,164</td>\n",
              "      <td>2,75,663</td>\n",
              "      <td>3</td>\n",
              "    </tr>\n",
              "    <tr>\n",
              "      <th>3</th>\n",
              "      <td>GEN</td>\n",
              "      <td>Gujarat</td>\n",
              "      <td>Indulal Kanaiyalal Yagnik</td>\n",
              "      <td>Nutan Maha Gujarat Janta Parisha</td>\n",
              "      <td>4,33,392</td>\n",
              "      <td>2,70,346</td>\n",
              "      <td>4</td>\n",
              "    </tr>\n",
              "    <tr>\n",
              "      <th>4</th>\n",
              "      <td>GEN</td>\n",
              "      <td>Maharashtra</td>\n",
              "      <td>Motilal Kundanmal Firodya</td>\n",
              "      <td>Indian National Congress</td>\n",
              "      <td>4,03,913</td>\n",
              "      <td>2,22,091</td>\n",
              "      <td>5</td>\n",
              "    </tr>\n",
              "  </tbody>\n",
              "</table>\n",
              "</div>\n",
              "      <button class=\"colab-df-convert\" onclick=\"convertToInteractive('df-a0bcf8b2-37ef-4ae3-9e00-f5e3eb56477e')\"\n",
              "              title=\"Convert this dataframe to an interactive table.\"\n",
              "              style=\"display:none;\">\n",
              "        \n",
              "  <svg xmlns=\"http://www.w3.org/2000/svg\" height=\"24px\"viewBox=\"0 0 24 24\"\n",
              "       width=\"24px\">\n",
              "    <path d=\"M0 0h24v24H0V0z\" fill=\"none\"/>\n",
              "    <path d=\"M18.56 5.44l.94 2.06.94-2.06 2.06-.94-2.06-.94-.94-2.06-.94 2.06-2.06.94zm-11 1L8.5 8.5l.94-2.06 2.06-.94-2.06-.94L8.5 2.5l-.94 2.06-2.06.94zm10 10l.94 2.06.94-2.06 2.06-.94-2.06-.94-.94-2.06-.94 2.06-2.06.94z\"/><path d=\"M17.41 7.96l-1.37-1.37c-.4-.4-.92-.59-1.43-.59-.52 0-1.04.2-1.43.59L10.3 9.45l-7.72 7.72c-.78.78-.78 2.05 0 2.83L4 21.41c.39.39.9.59 1.41.59.51 0 1.02-.2 1.41-.59l7.78-7.78 2.81-2.81c.8-.78.8-2.07 0-2.86zM5.41 20L4 18.59l7.72-7.72 1.47 1.35L5.41 20z\"/>\n",
              "  </svg>\n",
              "      </button>\n",
              "      \n",
              "  <style>\n",
              "    .colab-df-container {\n",
              "      display:flex;\n",
              "      flex-wrap:wrap;\n",
              "      gap: 12px;\n",
              "    }\n",
              "\n",
              "    .colab-df-convert {\n",
              "      background-color: #E8F0FE;\n",
              "      border: none;\n",
              "      border-radius: 50%;\n",
              "      cursor: pointer;\n",
              "      display: none;\n",
              "      fill: #1967D2;\n",
              "      height: 32px;\n",
              "      padding: 0 0 0 0;\n",
              "      width: 32px;\n",
              "    }\n",
              "\n",
              "    .colab-df-convert:hover {\n",
              "      background-color: #E2EBFA;\n",
              "      box-shadow: 0px 1px 2px rgba(60, 64, 67, 0.3), 0px 1px 3px 1px rgba(60, 64, 67, 0.15);\n",
              "      fill: #174EA6;\n",
              "    }\n",
              "\n",
              "    [theme=dark] .colab-df-convert {\n",
              "      background-color: #3B4455;\n",
              "      fill: #D2E3FC;\n",
              "    }\n",
              "\n",
              "    [theme=dark] .colab-df-convert:hover {\n",
              "      background-color: #434B5C;\n",
              "      box-shadow: 0px 1px 3px 1px rgba(0, 0, 0, 0.15);\n",
              "      filter: drop-shadow(0px 1px 2px rgba(0, 0, 0, 0.3));\n",
              "      fill: #FFFFFF;\n",
              "    }\n",
              "  </style>\n",
              "\n",
              "      <script>\n",
              "        const buttonEl =\n",
              "          document.querySelector('#df-a0bcf8b2-37ef-4ae3-9e00-f5e3eb56477e button.colab-df-convert');\n",
              "        buttonEl.style.display =\n",
              "          google.colab.kernel.accessAllowed ? 'block' : 'none';\n",
              "\n",
              "        async function convertToInteractive(key) {\n",
              "          const element = document.querySelector('#df-a0bcf8b2-37ef-4ae3-9e00-f5e3eb56477e');\n",
              "          const dataTable =\n",
              "            await google.colab.kernel.invokeFunction('convertToInteractive',\n",
              "                                                     [key], {});\n",
              "          if (!dataTable) return;\n",
              "\n",
              "          const docLinkHtml = 'Like what you see? Visit the ' +\n",
              "            '<a target=\"_blank\" href=https://colab.research.google.com/notebooks/data_table.ipynb>data table notebook</a>'\n",
              "            + ' to learn more about interactive tables.';\n",
              "          element.innerHTML = '';\n",
              "          dataTable['output_type'] = 'display_data';\n",
              "          await google.colab.output.renderOutput(dataTable, element);\n",
              "          const docLink = document.createElement('div');\n",
              "          docLink.innerHTML = docLinkHtml;\n",
              "          element.appendChild(docLink);\n",
              "        }\n",
              "      </script>\n",
              "    </div>\n",
              "  </div>\n",
              "  "
            ]
          },
          "metadata": {},
          "execution_count": 10
        }
      ]
    },
    {
      "cell_type": "code",
      "source": [
        "df1['state'].unique()"
      ],
      "metadata": {
        "colab": {
          "base_uri": "https://localhost:8080/"
        },
        "id": "d75u_ahYw65l",
        "outputId": "d881daca-9caa-41a9-8c31-7b3e2518f9a6"
      },
      "execution_count": null,
      "outputs": [
        {
          "output_type": "execute_result",
          "data": {
            "text/plain": [
              "array(['Andhra Pradesh', 'Uttar Pradesh [1947 - 1999]', 'Gujarat',\n",
              "       'Maharashtra', 'Rajasthan', 'Punjab', 'Kerala', 'Orissa', 'Madras',\n",
              "       'West Bengal', 'Bihar [1947 - 1999]', 'Assam',\n",
              "       'Madhya Pradesh [1947 - 1999]', 'Mysore', 'Himachal Pradesh',\n",
              "       'Delhi', 'Manipur', 'Tripura', 'Haryana', 'Jammu & Kashmir',\n",
              "       'Andaman & Nicobar Islands', 'Chandigarh', 'Dadra & Nagar Haveli',\n",
              "       'Laccadive, Minicoy And Amindivi Islands', 'Goa, Daman And Diu',\n",
              "       'Nagaland', 'Pondicherry', 'Tamil Nadu', 'Arunachal Pradesh',\n",
              "       'Karnataka', 'Delhi [1977 Onwards]', 'Daman & Diu', 'Lakshadweep',\n",
              "       'Mizoram', 'Meghalaya', 'Sikkim', 'Winning Candidate', 'Goa',\n",
              "       'Uttar Pradesh [2000 Onwards]', 'Uttarakhand',\n",
              "       'Bihar [2000 Onwards]', 'Madhya Pradesh [2000 Onwards]',\n",
              "       'Chhattisgarh', 'Jharkhand', 'Telangana',\n",
              "       'Andhra Pradesh [2014 Onwards]'], dtype=object)"
            ]
          },
          "metadata": {},
          "execution_count": 47
        }
      ]
    },
    {
      "cell_type": "code",
      "source": [
        "#Data cleaning and preprocessing using regular expressions and label encoding\n",
        "regex = r'(?<!\\[)[^\\[\\]]+(?!\\])'\n",
        "def Changer(str1):\n",
        "  matches = re.findall(regex, str1)\n",
        "  temp = matches[0]\n",
        "  temp = re.sub(r'^\\s+|\\s+$', '', temp)\n",
        "  # print(matches[0])\n",
        "  return temp\n",
        "  \n",
        "df1['state'] = df['state'].apply(lambda i: Changer(i))\n",
        "encoder = LabelEncoder()\n",
        "df1['New_State'] = encoder.fit_transform(df1['state'])\n",
        "df1['New_type'] = encoder.fit_transform(df1['type'])\n",
        "df1['New_candidate_name'] = encoder.fit_transform(df1['candidate_name'])\n",
        "df1['New_party'] = encoder.fit_transform(df1['party'])"
      ],
      "metadata": {
        "id": "2yT7Fof4xALJ"
      },
      "execution_count": null,
      "outputs": []
    },
    {
      "cell_type": "markdown",
      "source": [
        "*   The Changer function uses regular expression to extract the state name from the state column in the dataframe.\n",
        "*   The apply method is used to apply the Changer function to each row in the state column of the dataframe.\n",
        "*   The LabelEncoder from scikit-learn is used to encode the categorical variables state, type, candidate_name, and party into numeric values.\n",
        "*   The encoded variables are added to the df1 dataframe with names prefixed with \"New_\" to indicate they are the new encoded variables."
      ],
      "metadata": {
        "id": "OsFro68lMlV-"
      }
    },
    {
      "cell_type": "code",
      "source": [
        "df1.head()"
      ],
      "metadata": {
        "colab": {
          "base_uri": "https://localhost:8080/",
          "height": 206
        },
        "id": "MMeVLkaXxDvY",
        "outputId": "aa831ea5-3796-412a-f3dd-9a8502e43a65"
      },
      "execution_count": null,
      "outputs": [
        {
          "output_type": "execute_result",
          "data": {
            "text/plain": [
              "  type           state              candidate_name  \\\n",
              "0  GEN  Andhra Pradesh            G. Narayan Reddy   \n",
              "1  GEN  Andhra Pradesh  Pendekanti Venkatasubbaiah   \n",
              "2  GEN   Uttar Pradesh            Seth Achal Singh   \n",
              "3  GEN         Gujarat   Indulal Kanaiyalal Yagnik   \n",
              "4  GEN     Maharashtra   Motilal Kundanmal Firodya   \n",
              "\n",
              "                              party  electors     votes  New_Pc_name  \\\n",
              "0          Indian National Congress  4,04,283  2,20,383            1   \n",
              "1          Indian National Congress  4,19,077  2,52,379            2   \n",
              "2          Indian National Congress  4,33,164  2,75,663            3   \n",
              "3  Nutan Maha Gujarat Janta Parisha  4,33,392  2,70,346            4   \n",
              "4          Indian National Congress  4,03,913  2,22,091            5   \n",
              "\n",
              "   New_State  New_type  New_candidate_name  New_party  \n",
              "0          1         0                1667         59  \n",
              "1          1         0                4036         59  \n",
              "2         37         0                5181         59  \n",
              "3         12         0                2127        106  \n",
              "4         23         0                3462         59  "
            ],
            "text/html": [
              "\n",
              "  <div id=\"df-3bd6a352-f2d5-471b-8d79-9f6f3db112ed\">\n",
              "    <div class=\"colab-df-container\">\n",
              "      <div>\n",
              "<style scoped>\n",
              "    .dataframe tbody tr th:only-of-type {\n",
              "        vertical-align: middle;\n",
              "    }\n",
              "\n",
              "    .dataframe tbody tr th {\n",
              "        vertical-align: top;\n",
              "    }\n",
              "\n",
              "    .dataframe thead th {\n",
              "        text-align: right;\n",
              "    }\n",
              "</style>\n",
              "<table border=\"1\" class=\"dataframe\">\n",
              "  <thead>\n",
              "    <tr style=\"text-align: right;\">\n",
              "      <th></th>\n",
              "      <th>type</th>\n",
              "      <th>state</th>\n",
              "      <th>candidate_name</th>\n",
              "      <th>party</th>\n",
              "      <th>electors</th>\n",
              "      <th>votes</th>\n",
              "      <th>New_Pc_name</th>\n",
              "      <th>New_State</th>\n",
              "      <th>New_type</th>\n",
              "      <th>New_candidate_name</th>\n",
              "      <th>New_party</th>\n",
              "    </tr>\n",
              "  </thead>\n",
              "  <tbody>\n",
              "    <tr>\n",
              "      <th>0</th>\n",
              "      <td>GEN</td>\n",
              "      <td>Andhra Pradesh</td>\n",
              "      <td>G. Narayan Reddy</td>\n",
              "      <td>Indian National Congress</td>\n",
              "      <td>4,04,283</td>\n",
              "      <td>2,20,383</td>\n",
              "      <td>1</td>\n",
              "      <td>1</td>\n",
              "      <td>0</td>\n",
              "      <td>1667</td>\n",
              "      <td>59</td>\n",
              "    </tr>\n",
              "    <tr>\n",
              "      <th>1</th>\n",
              "      <td>GEN</td>\n",
              "      <td>Andhra Pradesh</td>\n",
              "      <td>Pendekanti Venkatasubbaiah</td>\n",
              "      <td>Indian National Congress</td>\n",
              "      <td>4,19,077</td>\n",
              "      <td>2,52,379</td>\n",
              "      <td>2</td>\n",
              "      <td>1</td>\n",
              "      <td>0</td>\n",
              "      <td>4036</td>\n",
              "      <td>59</td>\n",
              "    </tr>\n",
              "    <tr>\n",
              "      <th>2</th>\n",
              "      <td>GEN</td>\n",
              "      <td>Uttar Pradesh</td>\n",
              "      <td>Seth Achal Singh</td>\n",
              "      <td>Indian National Congress</td>\n",
              "      <td>4,33,164</td>\n",
              "      <td>2,75,663</td>\n",
              "      <td>3</td>\n",
              "      <td>37</td>\n",
              "      <td>0</td>\n",
              "      <td>5181</td>\n",
              "      <td>59</td>\n",
              "    </tr>\n",
              "    <tr>\n",
              "      <th>3</th>\n",
              "      <td>GEN</td>\n",
              "      <td>Gujarat</td>\n",
              "      <td>Indulal Kanaiyalal Yagnik</td>\n",
              "      <td>Nutan Maha Gujarat Janta Parisha</td>\n",
              "      <td>4,33,392</td>\n",
              "      <td>2,70,346</td>\n",
              "      <td>4</td>\n",
              "      <td>12</td>\n",
              "      <td>0</td>\n",
              "      <td>2127</td>\n",
              "      <td>106</td>\n",
              "    </tr>\n",
              "    <tr>\n",
              "      <th>4</th>\n",
              "      <td>GEN</td>\n",
              "      <td>Maharashtra</td>\n",
              "      <td>Motilal Kundanmal Firodya</td>\n",
              "      <td>Indian National Congress</td>\n",
              "      <td>4,03,913</td>\n",
              "      <td>2,22,091</td>\n",
              "      <td>5</td>\n",
              "      <td>23</td>\n",
              "      <td>0</td>\n",
              "      <td>3462</td>\n",
              "      <td>59</td>\n",
              "    </tr>\n",
              "  </tbody>\n",
              "</table>\n",
              "</div>\n",
              "      <button class=\"colab-df-convert\" onclick=\"convertToInteractive('df-3bd6a352-f2d5-471b-8d79-9f6f3db112ed')\"\n",
              "              title=\"Convert this dataframe to an interactive table.\"\n",
              "              style=\"display:none;\">\n",
              "        \n",
              "  <svg xmlns=\"http://www.w3.org/2000/svg\" height=\"24px\"viewBox=\"0 0 24 24\"\n",
              "       width=\"24px\">\n",
              "    <path d=\"M0 0h24v24H0V0z\" fill=\"none\"/>\n",
              "    <path d=\"M18.56 5.44l.94 2.06.94-2.06 2.06-.94-2.06-.94-.94-2.06-.94 2.06-2.06.94zm-11 1L8.5 8.5l.94-2.06 2.06-.94-2.06-.94L8.5 2.5l-.94 2.06-2.06.94zm10 10l.94 2.06.94-2.06 2.06-.94-2.06-.94-.94-2.06-.94 2.06-2.06.94z\"/><path d=\"M17.41 7.96l-1.37-1.37c-.4-.4-.92-.59-1.43-.59-.52 0-1.04.2-1.43.59L10.3 9.45l-7.72 7.72c-.78.78-.78 2.05 0 2.83L4 21.41c.39.39.9.59 1.41.59.51 0 1.02-.2 1.41-.59l7.78-7.78 2.81-2.81c.8-.78.8-2.07 0-2.86zM5.41 20L4 18.59l7.72-7.72 1.47 1.35L5.41 20z\"/>\n",
              "  </svg>\n",
              "      </button>\n",
              "      \n",
              "  <style>\n",
              "    .colab-df-container {\n",
              "      display:flex;\n",
              "      flex-wrap:wrap;\n",
              "      gap: 12px;\n",
              "    }\n",
              "\n",
              "    .colab-df-convert {\n",
              "      background-color: #E8F0FE;\n",
              "      border: none;\n",
              "      border-radius: 50%;\n",
              "      cursor: pointer;\n",
              "      display: none;\n",
              "      fill: #1967D2;\n",
              "      height: 32px;\n",
              "      padding: 0 0 0 0;\n",
              "      width: 32px;\n",
              "    }\n",
              "\n",
              "    .colab-df-convert:hover {\n",
              "      background-color: #E2EBFA;\n",
              "      box-shadow: 0px 1px 2px rgba(60, 64, 67, 0.3), 0px 1px 3px 1px rgba(60, 64, 67, 0.15);\n",
              "      fill: #174EA6;\n",
              "    }\n",
              "\n",
              "    [theme=dark] .colab-df-convert {\n",
              "      background-color: #3B4455;\n",
              "      fill: #D2E3FC;\n",
              "    }\n",
              "\n",
              "    [theme=dark] .colab-df-convert:hover {\n",
              "      background-color: #434B5C;\n",
              "      box-shadow: 0px 1px 3px 1px rgba(0, 0, 0, 0.15);\n",
              "      filter: drop-shadow(0px 1px 2px rgba(0, 0, 0, 0.3));\n",
              "      fill: #FFFFFF;\n",
              "    }\n",
              "  </style>\n",
              "\n",
              "      <script>\n",
              "        const buttonEl =\n",
              "          document.querySelector('#df-3bd6a352-f2d5-471b-8d79-9f6f3db112ed button.colab-df-convert');\n",
              "        buttonEl.style.display =\n",
              "          google.colab.kernel.accessAllowed ? 'block' : 'none';\n",
              "\n",
              "        async function convertToInteractive(key) {\n",
              "          const element = document.querySelector('#df-3bd6a352-f2d5-471b-8d79-9f6f3db112ed');\n",
              "          const dataTable =\n",
              "            await google.colab.kernel.invokeFunction('convertToInteractive',\n",
              "                                                     [key], {});\n",
              "          if (!dataTable) return;\n",
              "\n",
              "          const docLinkHtml = 'Like what you see? Visit the ' +\n",
              "            '<a target=\"_blank\" href=https://colab.research.google.com/notebooks/data_table.ipynb>data table notebook</a>'\n",
              "            + ' to learn more about interactive tables.';\n",
              "          element.innerHTML = '';\n",
              "          dataTable['output_type'] = 'display_data';\n",
              "          await google.colab.output.renderOutput(dataTable, element);\n",
              "          const docLink = document.createElement('div');\n",
              "          docLink.innerHTML = docLinkHtml;\n",
              "          element.appendChild(docLink);\n",
              "        }\n",
              "      </script>\n",
              "    </div>\n",
              "  </div>\n",
              "  "
            ]
          },
          "metadata": {},
          "execution_count": 13
        }
      ]
    },
    {
      "cell_type": "code",
      "source": [
        "df2 = df1.drop(['state','type','candidate_name','party'],axis=1)\n",
        "# the columns 'state','type','candidate_name','party are dropped from the dataframe df1."
      ],
      "metadata": {
        "id": "RiM8U_2KxHcC"
      },
      "execution_count": null,
      "outputs": []
    },
    {
      "cell_type": "code",
      "source": [
        "df2.head()"
      ],
      "metadata": {
        "colab": {
          "base_uri": "https://localhost:8080/",
          "height": 206
        },
        "id": "RPO0RstPxKHJ",
        "outputId": "725c26c7-a0fe-47f2-ae0f-f4d2035e5a3a"
      },
      "execution_count": null,
      "outputs": [
        {
          "output_type": "execute_result",
          "data": {
            "text/plain": [
              "   electors     votes  New_Pc_name  New_State  New_type  New_candidate_name  \\\n",
              "0  4,04,283  2,20,383            1          1         0                1667   \n",
              "1  4,19,077  2,52,379            2          1         0                4036   \n",
              "2  4,33,164  2,75,663            3         37         0                5181   \n",
              "3  4,33,392  2,70,346            4         12         0                2127   \n",
              "4  4,03,913  2,22,091            5         23         0                3462   \n",
              "\n",
              "   New_party  \n",
              "0         59  \n",
              "1         59  \n",
              "2         59  \n",
              "3        106  \n",
              "4         59  "
            ],
            "text/html": [
              "\n",
              "  <div id=\"df-0f9940b8-1b3d-4db1-9815-70fd7acf5cbe\">\n",
              "    <div class=\"colab-df-container\">\n",
              "      <div>\n",
              "<style scoped>\n",
              "    .dataframe tbody tr th:only-of-type {\n",
              "        vertical-align: middle;\n",
              "    }\n",
              "\n",
              "    .dataframe tbody tr th {\n",
              "        vertical-align: top;\n",
              "    }\n",
              "\n",
              "    .dataframe thead th {\n",
              "        text-align: right;\n",
              "    }\n",
              "</style>\n",
              "<table border=\"1\" class=\"dataframe\">\n",
              "  <thead>\n",
              "    <tr style=\"text-align: right;\">\n",
              "      <th></th>\n",
              "      <th>electors</th>\n",
              "      <th>votes</th>\n",
              "      <th>New_Pc_name</th>\n",
              "      <th>New_State</th>\n",
              "      <th>New_type</th>\n",
              "      <th>New_candidate_name</th>\n",
              "      <th>New_party</th>\n",
              "    </tr>\n",
              "  </thead>\n",
              "  <tbody>\n",
              "    <tr>\n",
              "      <th>0</th>\n",
              "      <td>4,04,283</td>\n",
              "      <td>2,20,383</td>\n",
              "      <td>1</td>\n",
              "      <td>1</td>\n",
              "      <td>0</td>\n",
              "      <td>1667</td>\n",
              "      <td>59</td>\n",
              "    </tr>\n",
              "    <tr>\n",
              "      <th>1</th>\n",
              "      <td>4,19,077</td>\n",
              "      <td>2,52,379</td>\n",
              "      <td>2</td>\n",
              "      <td>1</td>\n",
              "      <td>0</td>\n",
              "      <td>4036</td>\n",
              "      <td>59</td>\n",
              "    </tr>\n",
              "    <tr>\n",
              "      <th>2</th>\n",
              "      <td>4,33,164</td>\n",
              "      <td>2,75,663</td>\n",
              "      <td>3</td>\n",
              "      <td>37</td>\n",
              "      <td>0</td>\n",
              "      <td>5181</td>\n",
              "      <td>59</td>\n",
              "    </tr>\n",
              "    <tr>\n",
              "      <th>3</th>\n",
              "      <td>4,33,392</td>\n",
              "      <td>2,70,346</td>\n",
              "      <td>4</td>\n",
              "      <td>12</td>\n",
              "      <td>0</td>\n",
              "      <td>2127</td>\n",
              "      <td>106</td>\n",
              "    </tr>\n",
              "    <tr>\n",
              "      <th>4</th>\n",
              "      <td>4,03,913</td>\n",
              "      <td>2,22,091</td>\n",
              "      <td>5</td>\n",
              "      <td>23</td>\n",
              "      <td>0</td>\n",
              "      <td>3462</td>\n",
              "      <td>59</td>\n",
              "    </tr>\n",
              "  </tbody>\n",
              "</table>\n",
              "</div>\n",
              "      <button class=\"colab-df-convert\" onclick=\"convertToInteractive('df-0f9940b8-1b3d-4db1-9815-70fd7acf5cbe')\"\n",
              "              title=\"Convert this dataframe to an interactive table.\"\n",
              "              style=\"display:none;\">\n",
              "        \n",
              "  <svg xmlns=\"http://www.w3.org/2000/svg\" height=\"24px\"viewBox=\"0 0 24 24\"\n",
              "       width=\"24px\">\n",
              "    <path d=\"M0 0h24v24H0V0z\" fill=\"none\"/>\n",
              "    <path d=\"M18.56 5.44l.94 2.06.94-2.06 2.06-.94-2.06-.94-.94-2.06-.94 2.06-2.06.94zm-11 1L8.5 8.5l.94-2.06 2.06-.94-2.06-.94L8.5 2.5l-.94 2.06-2.06.94zm10 10l.94 2.06.94-2.06 2.06-.94-2.06-.94-.94-2.06-.94 2.06-2.06.94z\"/><path d=\"M17.41 7.96l-1.37-1.37c-.4-.4-.92-.59-1.43-.59-.52 0-1.04.2-1.43.59L10.3 9.45l-7.72 7.72c-.78.78-.78 2.05 0 2.83L4 21.41c.39.39.9.59 1.41.59.51 0 1.02-.2 1.41-.59l7.78-7.78 2.81-2.81c.8-.78.8-2.07 0-2.86zM5.41 20L4 18.59l7.72-7.72 1.47 1.35L5.41 20z\"/>\n",
              "  </svg>\n",
              "      </button>\n",
              "      \n",
              "  <style>\n",
              "    .colab-df-container {\n",
              "      display:flex;\n",
              "      flex-wrap:wrap;\n",
              "      gap: 12px;\n",
              "    }\n",
              "\n",
              "    .colab-df-convert {\n",
              "      background-color: #E8F0FE;\n",
              "      border: none;\n",
              "      border-radius: 50%;\n",
              "      cursor: pointer;\n",
              "      display: none;\n",
              "      fill: #1967D2;\n",
              "      height: 32px;\n",
              "      padding: 0 0 0 0;\n",
              "      width: 32px;\n",
              "    }\n",
              "\n",
              "    .colab-df-convert:hover {\n",
              "      background-color: #E2EBFA;\n",
              "      box-shadow: 0px 1px 2px rgba(60, 64, 67, 0.3), 0px 1px 3px 1px rgba(60, 64, 67, 0.15);\n",
              "      fill: #174EA6;\n",
              "    }\n",
              "\n",
              "    [theme=dark] .colab-df-convert {\n",
              "      background-color: #3B4455;\n",
              "      fill: #D2E3FC;\n",
              "    }\n",
              "\n",
              "    [theme=dark] .colab-df-convert:hover {\n",
              "      background-color: #434B5C;\n",
              "      box-shadow: 0px 1px 3px 1px rgba(0, 0, 0, 0.15);\n",
              "      filter: drop-shadow(0px 1px 2px rgba(0, 0, 0, 0.3));\n",
              "      fill: #FFFFFF;\n",
              "    }\n",
              "  </style>\n",
              "\n",
              "      <script>\n",
              "        const buttonEl =\n",
              "          document.querySelector('#df-0f9940b8-1b3d-4db1-9815-70fd7acf5cbe button.colab-df-convert');\n",
              "        buttonEl.style.display =\n",
              "          google.colab.kernel.accessAllowed ? 'block' : 'none';\n",
              "\n",
              "        async function convertToInteractive(key) {\n",
              "          const element = document.querySelector('#df-0f9940b8-1b3d-4db1-9815-70fd7acf5cbe');\n",
              "          const dataTable =\n",
              "            await google.colab.kernel.invokeFunction('convertToInteractive',\n",
              "                                                     [key], {});\n",
              "          if (!dataTable) return;\n",
              "\n",
              "          const docLinkHtml = 'Like what you see? Visit the ' +\n",
              "            '<a target=\"_blank\" href=https://colab.research.google.com/notebooks/data_table.ipynb>data table notebook</a>'\n",
              "            + ' to learn more about interactive tables.';\n",
              "          element.innerHTML = '';\n",
              "          dataTable['output_type'] = 'display_data';\n",
              "          await google.colab.output.renderOutput(dataTable, element);\n",
              "          const docLink = document.createElement('div');\n",
              "          docLink.innerHTML = docLinkHtml;\n",
              "          element.appendChild(docLink);\n",
              "        }\n",
              "      </script>\n",
              "    </div>\n",
              "  </div>\n",
              "  "
            ]
          },
          "metadata": {},
          "execution_count": 52
        }
      ]
    },
    {
      "cell_type": "code",
      "source": [
        "df2.info()"
      ],
      "metadata": {
        "colab": {
          "base_uri": "https://localhost:8080/"
        },
        "id": "rGkDD9gExLbm",
        "outputId": "ac04ae3e-a0f0-4128-acf4-d68fe30c1968"
      },
      "execution_count": null,
      "outputs": [
        {
          "output_type": "stream",
          "name": "stdout",
          "text": [
            "<class 'pandas.core.frame.DataFrame'>\n",
            "RangeIndex: 8047 entries, 0 to 8046\n",
            "Data columns (total 7 columns):\n",
            " #   Column              Non-Null Count  Dtype \n",
            "---  ------              --------------  ----- \n",
            " 0   electors            8047 non-null   object\n",
            " 1   votes               8047 non-null   object\n",
            " 2   New_Pc_name         8047 non-null   int64 \n",
            " 3   New_State           8047 non-null   int64 \n",
            " 4   New_type            8047 non-null   int64 \n",
            " 5   New_candidate_name  8047 non-null   int64 \n",
            " 6   New_party           8047 non-null   int64 \n",
            "dtypes: int64(5), object(2)\n",
            "memory usage: 440.2+ KB\n"
          ]
        }
      ]
    },
    {
      "cell_type": "code",
      "source": [
        "# Conversion\n",
        "def Converting(i):\n",
        "  i = i.replace(\",\",\"\")\n",
        "  try:\n",
        "    i = float(i)\n",
        "  except:\n",
        "    i = 0\n",
        "  return i    \n",
        "\n",
        "df2['votes_new'] = df2['votes'].apply(lambda i: Converting(i))\n",
        "df2['electors_new'] = df2['electors'].apply(lambda i: Converting(i))"
      ],
      "metadata": {
        "id": "FNQMkyqbxQdR"
      },
      "execution_count": null,
      "outputs": []
    },
    {
      "cell_type": "markdown",
      "source": [
        "This code defines a function Converting which takes a string argument i. The function first replaces any commas in i with an empty string. Then, it attempts to convert the resulting string to a floating point number using the float() function. If the conversion fails due to an error, the function returns 0."
      ],
      "metadata": {
        "id": "raQQ6ZvgQG7T"
      }
    },
    {
      "cell_type": "code",
      "source": [
        "df2.head()"
      ],
      "metadata": {
        "colab": {
          "base_uri": "https://localhost:8080/",
          "height": 206
        },
        "id": "EaDPmjQdxSkI",
        "outputId": "9730c0e5-359a-40a6-a25a-3edcaf71c9d4"
      },
      "execution_count": null,
      "outputs": [
        {
          "output_type": "execute_result",
          "data": {
            "text/plain": [
              "   electors     votes  New_Pc_name  New_State  New_type  New_candidate_name  \\\n",
              "0  4,04,283  2,20,383            1          1         0                1667   \n",
              "1  4,19,077  2,52,379            2          1         0                4036   \n",
              "2  4,33,164  2,75,663            3         37         0                5181   \n",
              "3  4,33,392  2,70,346            4         12         0                2127   \n",
              "4  4,03,913  2,22,091            5         23         0                3462   \n",
              "\n",
              "   New_party  votes_new  electors_new  \n",
              "0         59   220383.0      404283.0  \n",
              "1         59   252379.0      419077.0  \n",
              "2         59   275663.0      433164.0  \n",
              "3        106   270346.0      433392.0  \n",
              "4         59   222091.0      403913.0  "
            ],
            "text/html": [
              "\n",
              "  <div id=\"df-5264855f-a32a-4fbd-bb93-4ca4a722c092\">\n",
              "    <div class=\"colab-df-container\">\n",
              "      <div>\n",
              "<style scoped>\n",
              "    .dataframe tbody tr th:only-of-type {\n",
              "        vertical-align: middle;\n",
              "    }\n",
              "\n",
              "    .dataframe tbody tr th {\n",
              "        vertical-align: top;\n",
              "    }\n",
              "\n",
              "    .dataframe thead th {\n",
              "        text-align: right;\n",
              "    }\n",
              "</style>\n",
              "<table border=\"1\" class=\"dataframe\">\n",
              "  <thead>\n",
              "    <tr style=\"text-align: right;\">\n",
              "      <th></th>\n",
              "      <th>electors</th>\n",
              "      <th>votes</th>\n",
              "      <th>New_Pc_name</th>\n",
              "      <th>New_State</th>\n",
              "      <th>New_type</th>\n",
              "      <th>New_candidate_name</th>\n",
              "      <th>New_party</th>\n",
              "      <th>votes_new</th>\n",
              "      <th>electors_new</th>\n",
              "    </tr>\n",
              "  </thead>\n",
              "  <tbody>\n",
              "    <tr>\n",
              "      <th>0</th>\n",
              "      <td>4,04,283</td>\n",
              "      <td>2,20,383</td>\n",
              "      <td>1</td>\n",
              "      <td>1</td>\n",
              "      <td>0</td>\n",
              "      <td>1667</td>\n",
              "      <td>59</td>\n",
              "      <td>220383.0</td>\n",
              "      <td>404283.0</td>\n",
              "    </tr>\n",
              "    <tr>\n",
              "      <th>1</th>\n",
              "      <td>4,19,077</td>\n",
              "      <td>2,52,379</td>\n",
              "      <td>2</td>\n",
              "      <td>1</td>\n",
              "      <td>0</td>\n",
              "      <td>4036</td>\n",
              "      <td>59</td>\n",
              "      <td>252379.0</td>\n",
              "      <td>419077.0</td>\n",
              "    </tr>\n",
              "    <tr>\n",
              "      <th>2</th>\n",
              "      <td>4,33,164</td>\n",
              "      <td>2,75,663</td>\n",
              "      <td>3</td>\n",
              "      <td>37</td>\n",
              "      <td>0</td>\n",
              "      <td>5181</td>\n",
              "      <td>59</td>\n",
              "      <td>275663.0</td>\n",
              "      <td>433164.0</td>\n",
              "    </tr>\n",
              "    <tr>\n",
              "      <th>3</th>\n",
              "      <td>4,33,392</td>\n",
              "      <td>2,70,346</td>\n",
              "      <td>4</td>\n",
              "      <td>12</td>\n",
              "      <td>0</td>\n",
              "      <td>2127</td>\n",
              "      <td>106</td>\n",
              "      <td>270346.0</td>\n",
              "      <td>433392.0</td>\n",
              "    </tr>\n",
              "    <tr>\n",
              "      <th>4</th>\n",
              "      <td>4,03,913</td>\n",
              "      <td>2,22,091</td>\n",
              "      <td>5</td>\n",
              "      <td>23</td>\n",
              "      <td>0</td>\n",
              "      <td>3462</td>\n",
              "      <td>59</td>\n",
              "      <td>222091.0</td>\n",
              "      <td>403913.0</td>\n",
              "    </tr>\n",
              "  </tbody>\n",
              "</table>\n",
              "</div>\n",
              "      <button class=\"colab-df-convert\" onclick=\"convertToInteractive('df-5264855f-a32a-4fbd-bb93-4ca4a722c092')\"\n",
              "              title=\"Convert this dataframe to an interactive table.\"\n",
              "              style=\"display:none;\">\n",
              "        \n",
              "  <svg xmlns=\"http://www.w3.org/2000/svg\" height=\"24px\"viewBox=\"0 0 24 24\"\n",
              "       width=\"24px\">\n",
              "    <path d=\"M0 0h24v24H0V0z\" fill=\"none\"/>\n",
              "    <path d=\"M18.56 5.44l.94 2.06.94-2.06 2.06-.94-2.06-.94-.94-2.06-.94 2.06-2.06.94zm-11 1L8.5 8.5l.94-2.06 2.06-.94-2.06-.94L8.5 2.5l-.94 2.06-2.06.94zm10 10l.94 2.06.94-2.06 2.06-.94-2.06-.94-.94-2.06-.94 2.06-2.06.94z\"/><path d=\"M17.41 7.96l-1.37-1.37c-.4-.4-.92-.59-1.43-.59-.52 0-1.04.2-1.43.59L10.3 9.45l-7.72 7.72c-.78.78-.78 2.05 0 2.83L4 21.41c.39.39.9.59 1.41.59.51 0 1.02-.2 1.41-.59l7.78-7.78 2.81-2.81c.8-.78.8-2.07 0-2.86zM5.41 20L4 18.59l7.72-7.72 1.47 1.35L5.41 20z\"/>\n",
              "  </svg>\n",
              "      </button>\n",
              "      \n",
              "  <style>\n",
              "    .colab-df-container {\n",
              "      display:flex;\n",
              "      flex-wrap:wrap;\n",
              "      gap: 12px;\n",
              "    }\n",
              "\n",
              "    .colab-df-convert {\n",
              "      background-color: #E8F0FE;\n",
              "      border: none;\n",
              "      border-radius: 50%;\n",
              "      cursor: pointer;\n",
              "      display: none;\n",
              "      fill: #1967D2;\n",
              "      height: 32px;\n",
              "      padding: 0 0 0 0;\n",
              "      width: 32px;\n",
              "    }\n",
              "\n",
              "    .colab-df-convert:hover {\n",
              "      background-color: #E2EBFA;\n",
              "      box-shadow: 0px 1px 2px rgba(60, 64, 67, 0.3), 0px 1px 3px 1px rgba(60, 64, 67, 0.15);\n",
              "      fill: #174EA6;\n",
              "    }\n",
              "\n",
              "    [theme=dark] .colab-df-convert {\n",
              "      background-color: #3B4455;\n",
              "      fill: #D2E3FC;\n",
              "    }\n",
              "\n",
              "    [theme=dark] .colab-df-convert:hover {\n",
              "      background-color: #434B5C;\n",
              "      box-shadow: 0px 1px 3px 1px rgba(0, 0, 0, 0.15);\n",
              "      filter: drop-shadow(0px 1px 2px rgba(0, 0, 0, 0.3));\n",
              "      fill: #FFFFFF;\n",
              "    }\n",
              "  </style>\n",
              "\n",
              "      <script>\n",
              "        const buttonEl =\n",
              "          document.querySelector('#df-5264855f-a32a-4fbd-bb93-4ca4a722c092 button.colab-df-convert');\n",
              "        buttonEl.style.display =\n",
              "          google.colab.kernel.accessAllowed ? 'block' : 'none';\n",
              "\n",
              "        async function convertToInteractive(key) {\n",
              "          const element = document.querySelector('#df-5264855f-a32a-4fbd-bb93-4ca4a722c092');\n",
              "          const dataTable =\n",
              "            await google.colab.kernel.invokeFunction('convertToInteractive',\n",
              "                                                     [key], {});\n",
              "          if (!dataTable) return;\n",
              "\n",
              "          const docLinkHtml = 'Like what you see? Visit the ' +\n",
              "            '<a target=\"_blank\" href=https://colab.research.google.com/notebooks/data_table.ipynb>data table notebook</a>'\n",
              "            + ' to learn more about interactive tables.';\n",
              "          element.innerHTML = '';\n",
              "          dataTable['output_type'] = 'display_data';\n",
              "          await google.colab.output.renderOutput(dataTable, element);\n",
              "          const docLink = document.createElement('div');\n",
              "          docLink.innerHTML = docLinkHtml;\n",
              "          element.appendChild(docLink);\n",
              "        }\n",
              "      </script>\n",
              "    </div>\n",
              "  </div>\n",
              "  "
            ]
          },
          "metadata": {},
          "execution_count": 55
        }
      ]
    },
    {
      "cell_type": "code",
      "source": [
        "df3 = df2.drop(['electors','votes'],axis=1)\n",
        "# dropping electors and votes from df2."
      ],
      "metadata": {
        "id": "qUuXMfBHxWGM"
      },
      "execution_count": null,
      "outputs": []
    },
    {
      "cell_type": "code",
      "source": [
        "df3.head()"
      ],
      "metadata": {
        "colab": {
          "base_uri": "https://localhost:8080/",
          "height": 206
        },
        "id": "gPBU2jy1xY8j",
        "outputId": "6b7daebb-193a-4834-b693-101513bdfbf0"
      },
      "execution_count": null,
      "outputs": [
        {
          "output_type": "execute_result",
          "data": {
            "text/plain": [
              "   New_Pc_name  New_State  New_type  New_candidate_name  New_party  votes_new  \\\n",
              "0            1          1         0                1667         59   220383.0   \n",
              "1            2          1         0                4036         59   252379.0   \n",
              "2            3         37         0                5181         59   275663.0   \n",
              "3            4         12         0                2127        106   270346.0   \n",
              "4            5         23         0                3462         59   222091.0   \n",
              "\n",
              "   electors_new  \n",
              "0      404283.0  \n",
              "1      419077.0  \n",
              "2      433164.0  \n",
              "3      433392.0  \n",
              "4      403913.0  "
            ],
            "text/html": [
              "\n",
              "  <div id=\"df-b3977410-20f5-4c73-9bc3-829240d75716\">\n",
              "    <div class=\"colab-df-container\">\n",
              "      <div>\n",
              "<style scoped>\n",
              "    .dataframe tbody tr th:only-of-type {\n",
              "        vertical-align: middle;\n",
              "    }\n",
              "\n",
              "    .dataframe tbody tr th {\n",
              "        vertical-align: top;\n",
              "    }\n",
              "\n",
              "    .dataframe thead th {\n",
              "        text-align: right;\n",
              "    }\n",
              "</style>\n",
              "<table border=\"1\" class=\"dataframe\">\n",
              "  <thead>\n",
              "    <tr style=\"text-align: right;\">\n",
              "      <th></th>\n",
              "      <th>New_Pc_name</th>\n",
              "      <th>New_State</th>\n",
              "      <th>New_type</th>\n",
              "      <th>New_candidate_name</th>\n",
              "      <th>New_party</th>\n",
              "      <th>votes_new</th>\n",
              "      <th>electors_new</th>\n",
              "    </tr>\n",
              "  </thead>\n",
              "  <tbody>\n",
              "    <tr>\n",
              "      <th>0</th>\n",
              "      <td>1</td>\n",
              "      <td>1</td>\n",
              "      <td>0</td>\n",
              "      <td>1667</td>\n",
              "      <td>59</td>\n",
              "      <td>220383.0</td>\n",
              "      <td>404283.0</td>\n",
              "    </tr>\n",
              "    <tr>\n",
              "      <th>1</th>\n",
              "      <td>2</td>\n",
              "      <td>1</td>\n",
              "      <td>0</td>\n",
              "      <td>4036</td>\n",
              "      <td>59</td>\n",
              "      <td>252379.0</td>\n",
              "      <td>419077.0</td>\n",
              "    </tr>\n",
              "    <tr>\n",
              "      <th>2</th>\n",
              "      <td>3</td>\n",
              "      <td>37</td>\n",
              "      <td>0</td>\n",
              "      <td>5181</td>\n",
              "      <td>59</td>\n",
              "      <td>275663.0</td>\n",
              "      <td>433164.0</td>\n",
              "    </tr>\n",
              "    <tr>\n",
              "      <th>3</th>\n",
              "      <td>4</td>\n",
              "      <td>12</td>\n",
              "      <td>0</td>\n",
              "      <td>2127</td>\n",
              "      <td>106</td>\n",
              "      <td>270346.0</td>\n",
              "      <td>433392.0</td>\n",
              "    </tr>\n",
              "    <tr>\n",
              "      <th>4</th>\n",
              "      <td>5</td>\n",
              "      <td>23</td>\n",
              "      <td>0</td>\n",
              "      <td>3462</td>\n",
              "      <td>59</td>\n",
              "      <td>222091.0</td>\n",
              "      <td>403913.0</td>\n",
              "    </tr>\n",
              "  </tbody>\n",
              "</table>\n",
              "</div>\n",
              "      <button class=\"colab-df-convert\" onclick=\"convertToInteractive('df-b3977410-20f5-4c73-9bc3-829240d75716')\"\n",
              "              title=\"Convert this dataframe to an interactive table.\"\n",
              "              style=\"display:none;\">\n",
              "        \n",
              "  <svg xmlns=\"http://www.w3.org/2000/svg\" height=\"24px\"viewBox=\"0 0 24 24\"\n",
              "       width=\"24px\">\n",
              "    <path d=\"M0 0h24v24H0V0z\" fill=\"none\"/>\n",
              "    <path d=\"M18.56 5.44l.94 2.06.94-2.06 2.06-.94-2.06-.94-.94-2.06-.94 2.06-2.06.94zm-11 1L8.5 8.5l.94-2.06 2.06-.94-2.06-.94L8.5 2.5l-.94 2.06-2.06.94zm10 10l.94 2.06.94-2.06 2.06-.94-2.06-.94-.94-2.06-.94 2.06-2.06.94z\"/><path d=\"M17.41 7.96l-1.37-1.37c-.4-.4-.92-.59-1.43-.59-.52 0-1.04.2-1.43.59L10.3 9.45l-7.72 7.72c-.78.78-.78 2.05 0 2.83L4 21.41c.39.39.9.59 1.41.59.51 0 1.02-.2 1.41-.59l7.78-7.78 2.81-2.81c.8-.78.8-2.07 0-2.86zM5.41 20L4 18.59l7.72-7.72 1.47 1.35L5.41 20z\"/>\n",
              "  </svg>\n",
              "      </button>\n",
              "      \n",
              "  <style>\n",
              "    .colab-df-container {\n",
              "      display:flex;\n",
              "      flex-wrap:wrap;\n",
              "      gap: 12px;\n",
              "    }\n",
              "\n",
              "    .colab-df-convert {\n",
              "      background-color: #E8F0FE;\n",
              "      border: none;\n",
              "      border-radius: 50%;\n",
              "      cursor: pointer;\n",
              "      display: none;\n",
              "      fill: #1967D2;\n",
              "      height: 32px;\n",
              "      padding: 0 0 0 0;\n",
              "      width: 32px;\n",
              "    }\n",
              "\n",
              "    .colab-df-convert:hover {\n",
              "      background-color: #E2EBFA;\n",
              "      box-shadow: 0px 1px 2px rgba(60, 64, 67, 0.3), 0px 1px 3px 1px rgba(60, 64, 67, 0.15);\n",
              "      fill: #174EA6;\n",
              "    }\n",
              "\n",
              "    [theme=dark] .colab-df-convert {\n",
              "      background-color: #3B4455;\n",
              "      fill: #D2E3FC;\n",
              "    }\n",
              "\n",
              "    [theme=dark] .colab-df-convert:hover {\n",
              "      background-color: #434B5C;\n",
              "      box-shadow: 0px 1px 3px 1px rgba(0, 0, 0, 0.15);\n",
              "      filter: drop-shadow(0px 1px 2px rgba(0, 0, 0, 0.3));\n",
              "      fill: #FFFFFF;\n",
              "    }\n",
              "  </style>\n",
              "\n",
              "      <script>\n",
              "        const buttonEl =\n",
              "          document.querySelector('#df-b3977410-20f5-4c73-9bc3-829240d75716 button.colab-df-convert');\n",
              "        buttonEl.style.display =\n",
              "          google.colab.kernel.accessAllowed ? 'block' : 'none';\n",
              "\n",
              "        async function convertToInteractive(key) {\n",
              "          const element = document.querySelector('#df-b3977410-20f5-4c73-9bc3-829240d75716');\n",
              "          const dataTable =\n",
              "            await google.colab.kernel.invokeFunction('convertToInteractive',\n",
              "                                                     [key], {});\n",
              "          if (!dataTable) return;\n",
              "\n",
              "          const docLinkHtml = 'Like what you see? Visit the ' +\n",
              "            '<a target=\"_blank\" href=https://colab.research.google.com/notebooks/data_table.ipynb>data table notebook</a>'\n",
              "            + ' to learn more about interactive tables.';\n",
              "          element.innerHTML = '';\n",
              "          dataTable['output_type'] = 'display_data';\n",
              "          await google.colab.output.renderOutput(dataTable, element);\n",
              "          const docLink = document.createElement('div');\n",
              "          docLink.innerHTML = docLinkHtml;\n",
              "          element.appendChild(docLink);\n",
              "        }\n",
              "      </script>\n",
              "    </div>\n",
              "  </div>\n",
              "  "
            ]
          },
          "metadata": {},
          "execution_count": 57
        }
      ]
    },
    {
      "cell_type": "code",
      "source": [
        "df3.info()"
      ],
      "metadata": {
        "colab": {
          "base_uri": "https://localhost:8080/"
        },
        "id": "G6jlzANpxbm3",
        "outputId": "b88be3db-f66e-40a5-b89b-df7e66faeee5"
      },
      "execution_count": null,
      "outputs": [
        {
          "output_type": "stream",
          "name": "stdout",
          "text": [
            "<class 'pandas.core.frame.DataFrame'>\n",
            "RangeIndex: 8047 entries, 0 to 8046\n",
            "Data columns (total 7 columns):\n",
            " #   Column              Non-Null Count  Dtype  \n",
            "---  ------              --------------  -----  \n",
            " 0   New_Pc_name         8047 non-null   int64  \n",
            " 1   New_State           8047 non-null   int64  \n",
            " 2   New_type            8047 non-null   int64  \n",
            " 3   New_candidate_name  8047 non-null   int64  \n",
            " 4   New_party           8047 non-null   int64  \n",
            " 5   votes_new           8047 non-null   float64\n",
            " 6   electors_new        8047 non-null   float64\n",
            "dtypes: float64(2), int64(5)\n",
            "memory usage: 440.2 KB\n"
          ]
        }
      ]
    },
    {
      "cell_type": "code",
      "source": [
        "df3.isna().sum()\n",
        "# isna() function is used to detect missing values (NaN) in a DataFrame."
      ],
      "metadata": {
        "colab": {
          "base_uri": "https://localhost:8080/"
        },
        "id": "CYjvuvh5xeT0",
        "outputId": "6521bccd-292e-4536-85c4-482bdb9e4893"
      },
      "execution_count": null,
      "outputs": [
        {
          "output_type": "execute_result",
          "data": {
            "text/plain": [
              "New_Pc_name           0\n",
              "New_State             0\n",
              "New_type              0\n",
              "New_candidate_name    0\n",
              "New_party             0\n",
              "votes_new             0\n",
              "electors_new          0\n",
              "dtype: int64"
            ]
          },
          "metadata": {},
          "execution_count": 60
        }
      ]
    },
    {
      "cell_type": "code",
      "source": [
        "from sklearn.preprocessing import MinMaxScaler\n",
        "\n",
        "# create a MinMaxScaler object\n",
        "scaler = MinMaxScaler()\n",
        "\n",
        "df3['electors_new'] = scaler.fit_transform(df3[['electors_new']])\n",
        "df3['votes_new'] = scaler.fit_transform(df3[['votes_new']])"
      ],
      "metadata": {
        "id": "2T-7QWisxgxr"
      },
      "execution_count": null,
      "outputs": []
    },
    {
      "cell_type": "code",
      "source": [
        "df3.head"
      ],
      "metadata": {
        "colab": {
          "base_uri": "https://localhost:8080/"
        },
        "id": "e0BksroxxjPi",
        "outputId": "748364d4-cbb1-4fa9-df97-0acdb75098ff"
      },
      "execution_count": null,
      "outputs": [
        {
          "output_type": "execute_result",
          "data": {
            "text/plain": [
              "<bound method NDFrame.head of       New_Pc_name  New_State  New_type  New_candidate_name  New_party  \\\n",
              "0               1          1         0                1667         59   \n",
              "1               2          1         0                4036         59   \n",
              "2               3         37         0                5181         59   \n",
              "3               4         12         0                2127        106   \n",
              "4               5         23         0                3462         59   \n",
              "...           ...        ...       ...                 ...        ...   \n",
              "8042          489         23         0                4632         30   \n",
              "8043          863         18         0                4344         59   \n",
              "8044          864          9         0                5056         30   \n",
              "8045          895         23         0                 744        127   \n",
              "8046          866         35         0                 519        137   \n",
              "\n",
              "      votes_new  electors_new  \n",
              "0      0.124951      0.120022  \n",
              "1      0.143092      0.124414  \n",
              "2      0.156293      0.128596  \n",
              "3      0.153278      0.128664  \n",
              "4      0.125919      0.119912  \n",
              "...         ...           ...  \n",
              "8042   0.608117      0.498690  \n",
              "8043   0.619245      0.387763  \n",
              "8044   0.817347      0.605454  \n",
              "8045   0.665749      0.537959  \n",
              "8046   0.592125      0.418901  \n",
              "\n",
              "[8047 rows x 7 columns]>"
            ]
          },
          "metadata": {},
          "execution_count": 62
        }
      ]
    },
    {
      "cell_type": "code",
      "source": [
        "X = df3.drop(['votes_new'],axis=1)\n",
        "Y = df3['votes_new']"
      ],
      "metadata": {
        "id": "5Eg3nsoyx-G-"
      },
      "execution_count": null,
      "outputs": []
    },
    {
      "cell_type": "code",
      "source": [
        "# train-test split method.\n",
        "X_train, X_test, y_train, y_test = train_test_split(X, Y, test_size=0.2)"
      ],
      "metadata": {
        "id": "Af-4Wpv6xwR1"
      },
      "execution_count": null,
      "outputs": []
    },
    {
      "cell_type": "code",
      "source": [
        "print(\"The Shape of X_train:- \" + str(X_train.shape))\n",
        "print(\"The Shape of Y_train:- \" + str(y_train.shape))\n",
        "print(\"The Shape of X_test:- \" + str(X_test.shape))\n",
        "print(\"The Shape of Y_test- \" + str(y_test.shape))"
      ],
      "metadata": {
        "colab": {
          "base_uri": "https://localhost:8080/"
        },
        "id": "ImmED4qNx2cO",
        "outputId": "691230ec-cce8-415d-8b17-bd278f9db6e0"
      },
      "execution_count": null,
      "outputs": [
        {
          "output_type": "stream",
          "name": "stdout",
          "text": [
            "The Shape of X_train:- (6437, 6)\n",
            "The Shape of Y_train:- (6437,)\n",
            "The Shape of X_test:- (1610, 6)\n",
            "The Shape of Y_test- (1610,)\n"
          ]
        }
      ]
    },
    {
      "cell_type": "code",
      "source": [
        "# Model Training\n",
        "from sklearn.linear_model import LinearRegression  \n",
        "regressor= LinearRegression()  \n",
        "regressor.fit(X_train, y_train) #function estimates the coefficients of the linear regression line that best fit the training data using the Ordinary Least Squares (OLS) method."
      ],
      "metadata": {
        "colab": {
          "base_uri": "https://localhost:8080/"
        },
        "id": "Ci_BL3b7yI-g",
        "outputId": "c8122c90-09b3-4600-95b3-4e529dfae291"
      },
      "execution_count": null,
      "outputs": [
        {
          "output_type": "execute_result",
          "data": {
            "text/plain": [
              "LinearRegression()"
            ]
          },
          "metadata": {},
          "execution_count": 67
        }
      ]
    },
    {
      "cell_type": "code",
      "source": [
        "y_pred= regressor.predict(X_test)"
      ],
      "metadata": {
        "id": "gisIk7soyLrS"
      },
      "execution_count": null,
      "outputs": []
    },
    {
      "cell_type": "code",
      "source": [
        "# Evaluating the performance of a linear regression model.\n",
        "from sklearn.metrics import r2_score, mean_squared_error\n",
        "print(\"R-squared:\", r2_score(y_test, y_pred))\n",
        "print(\"Mean Squared Error:\", mean_squared_error(y_test, y_pred))"
      ],
      "metadata": {
        "colab": {
          "base_uri": "https://localhost:8080/"
        },
        "id": "tgrSaX6SyOz9",
        "outputId": "1da4857d-43b6-48cd-8264-babba487ac4c"
      },
      "execution_count": null,
      "outputs": [
        {
          "output_type": "stream",
          "name": "stdout",
          "text": [
            "R-squared: 0.8214867896755529\n",
            "Mean Squared Error: 0.005069151499417894\n"
          ]
        }
      ]
    },
    {
      "cell_type": "code",
      "source": [
        "df3.head()"
      ],
      "metadata": {
        "colab": {
          "base_uri": "https://localhost:8080/",
          "height": 206
        },
        "id": "yf0BXPyFyiK5",
        "outputId": "067b6333-1c98-40fc-c858-6a2f167ec5d5"
      },
      "execution_count": null,
      "outputs": [
        {
          "output_type": "execute_result",
          "data": {
            "text/plain": [
              "   New_Pc_name  New_State  New_type  New_candidate_name  New_party  votes_new  \\\n",
              "0            1          1         0                1667         59   0.124951   \n",
              "1            2          1         0                4036         59   0.143092   \n",
              "2            3         37         0                5181         59   0.156293   \n",
              "3            4         12         0                2127        106   0.153278   \n",
              "4            5         23         0                3462         59   0.125919   \n",
              "\n",
              "   electors_new  \n",
              "0      0.120022  \n",
              "1      0.124414  \n",
              "2      0.128596  \n",
              "3      0.128664  \n",
              "4      0.119912  "
            ],
            "text/html": [
              "\n",
              "  <div id=\"df-1b33e393-2571-470b-872c-feb7d86a7a40\">\n",
              "    <div class=\"colab-df-container\">\n",
              "      <div>\n",
              "<style scoped>\n",
              "    .dataframe tbody tr th:only-of-type {\n",
              "        vertical-align: middle;\n",
              "    }\n",
              "\n",
              "    .dataframe tbody tr th {\n",
              "        vertical-align: top;\n",
              "    }\n",
              "\n",
              "    .dataframe thead th {\n",
              "        text-align: right;\n",
              "    }\n",
              "</style>\n",
              "<table border=\"1\" class=\"dataframe\">\n",
              "  <thead>\n",
              "    <tr style=\"text-align: right;\">\n",
              "      <th></th>\n",
              "      <th>New_Pc_name</th>\n",
              "      <th>New_State</th>\n",
              "      <th>New_type</th>\n",
              "      <th>New_candidate_name</th>\n",
              "      <th>New_party</th>\n",
              "      <th>votes_new</th>\n",
              "      <th>electors_new</th>\n",
              "    </tr>\n",
              "  </thead>\n",
              "  <tbody>\n",
              "    <tr>\n",
              "      <th>0</th>\n",
              "      <td>1</td>\n",
              "      <td>1</td>\n",
              "      <td>0</td>\n",
              "      <td>1667</td>\n",
              "      <td>59</td>\n",
              "      <td>0.124951</td>\n",
              "      <td>0.120022</td>\n",
              "    </tr>\n",
              "    <tr>\n",
              "      <th>1</th>\n",
              "      <td>2</td>\n",
              "      <td>1</td>\n",
              "      <td>0</td>\n",
              "      <td>4036</td>\n",
              "      <td>59</td>\n",
              "      <td>0.143092</td>\n",
              "      <td>0.124414</td>\n",
              "    </tr>\n",
              "    <tr>\n",
              "      <th>2</th>\n",
              "      <td>3</td>\n",
              "      <td>37</td>\n",
              "      <td>0</td>\n",
              "      <td>5181</td>\n",
              "      <td>59</td>\n",
              "      <td>0.156293</td>\n",
              "      <td>0.128596</td>\n",
              "    </tr>\n",
              "    <tr>\n",
              "      <th>3</th>\n",
              "      <td>4</td>\n",
              "      <td>12</td>\n",
              "      <td>0</td>\n",
              "      <td>2127</td>\n",
              "      <td>106</td>\n",
              "      <td>0.153278</td>\n",
              "      <td>0.128664</td>\n",
              "    </tr>\n",
              "    <tr>\n",
              "      <th>4</th>\n",
              "      <td>5</td>\n",
              "      <td>23</td>\n",
              "      <td>0</td>\n",
              "      <td>3462</td>\n",
              "      <td>59</td>\n",
              "      <td>0.125919</td>\n",
              "      <td>0.119912</td>\n",
              "    </tr>\n",
              "  </tbody>\n",
              "</table>\n",
              "</div>\n",
              "      <button class=\"colab-df-convert\" onclick=\"convertToInteractive('df-1b33e393-2571-470b-872c-feb7d86a7a40')\"\n",
              "              title=\"Convert this dataframe to an interactive table.\"\n",
              "              style=\"display:none;\">\n",
              "        \n",
              "  <svg xmlns=\"http://www.w3.org/2000/svg\" height=\"24px\"viewBox=\"0 0 24 24\"\n",
              "       width=\"24px\">\n",
              "    <path d=\"M0 0h24v24H0V0z\" fill=\"none\"/>\n",
              "    <path d=\"M18.56 5.44l.94 2.06.94-2.06 2.06-.94-2.06-.94-.94-2.06-.94 2.06-2.06.94zm-11 1L8.5 8.5l.94-2.06 2.06-.94-2.06-.94L8.5 2.5l-.94 2.06-2.06.94zm10 10l.94 2.06.94-2.06 2.06-.94-2.06-.94-.94-2.06-.94 2.06-2.06.94z\"/><path d=\"M17.41 7.96l-1.37-1.37c-.4-.4-.92-.59-1.43-.59-.52 0-1.04.2-1.43.59L10.3 9.45l-7.72 7.72c-.78.78-.78 2.05 0 2.83L4 21.41c.39.39.9.59 1.41.59.51 0 1.02-.2 1.41-.59l7.78-7.78 2.81-2.81c.8-.78.8-2.07 0-2.86zM5.41 20L4 18.59l7.72-7.72 1.47 1.35L5.41 20z\"/>\n",
              "  </svg>\n",
              "      </button>\n",
              "      \n",
              "  <style>\n",
              "    .colab-df-container {\n",
              "      display:flex;\n",
              "      flex-wrap:wrap;\n",
              "      gap: 12px;\n",
              "    }\n",
              "\n",
              "    .colab-df-convert {\n",
              "      background-color: #E8F0FE;\n",
              "      border: none;\n",
              "      border-radius: 50%;\n",
              "      cursor: pointer;\n",
              "      display: none;\n",
              "      fill: #1967D2;\n",
              "      height: 32px;\n",
              "      padding: 0 0 0 0;\n",
              "      width: 32px;\n",
              "    }\n",
              "\n",
              "    .colab-df-convert:hover {\n",
              "      background-color: #E2EBFA;\n",
              "      box-shadow: 0px 1px 2px rgba(60, 64, 67, 0.3), 0px 1px 3px 1px rgba(60, 64, 67, 0.15);\n",
              "      fill: #174EA6;\n",
              "    }\n",
              "\n",
              "    [theme=dark] .colab-df-convert {\n",
              "      background-color: #3B4455;\n",
              "      fill: #D2E3FC;\n",
              "    }\n",
              "\n",
              "    [theme=dark] .colab-df-convert:hover {\n",
              "      background-color: #434B5C;\n",
              "      box-shadow: 0px 1px 3px 1px rgba(0, 0, 0, 0.15);\n",
              "      filter: drop-shadow(0px 1px 2px rgba(0, 0, 0, 0.3));\n",
              "      fill: #FFFFFF;\n",
              "    }\n",
              "  </style>\n",
              "\n",
              "      <script>\n",
              "        const buttonEl =\n",
              "          document.querySelector('#df-1b33e393-2571-470b-872c-feb7d86a7a40 button.colab-df-convert');\n",
              "        buttonEl.style.display =\n",
              "          google.colab.kernel.accessAllowed ? 'block' : 'none';\n",
              "\n",
              "        async function convertToInteractive(key) {\n",
              "          const element = document.querySelector('#df-1b33e393-2571-470b-872c-feb7d86a7a40');\n",
              "          const dataTable =\n",
              "            await google.colab.kernel.invokeFunction('convertToInteractive',\n",
              "                                                     [key], {});\n",
              "          if (!dataTable) return;\n",
              "\n",
              "          const docLinkHtml = 'Like what you see? Visit the ' +\n",
              "            '<a target=\"_blank\" href=https://colab.research.google.com/notebooks/data_table.ipynb>data table notebook</a>'\n",
              "            + ' to learn more about interactive tables.';\n",
              "          element.innerHTML = '';\n",
              "          dataTable['output_type'] = 'display_data';\n",
              "          await google.colab.output.renderOutput(dataTable, element);\n",
              "          const docLink = document.createElement('div');\n",
              "          docLink.innerHTML = docLinkHtml;\n",
              "          element.appendChild(docLink);\n",
              "        }\n",
              "      </script>\n",
              "    </div>\n",
              "  </div>\n",
              "  "
            ]
          },
          "metadata": {},
          "execution_count": 71
        }
      ]
    },
    {
      "cell_type": "code",
      "source": [
        "from sklearn import svm, datasets\n",
        "regressor.predict([[2,1,0,4036,59,0.124414]])"
      ],
      "metadata": {
        "colab": {
          "base_uri": "https://localhost:8080/"
        },
        "id": "XotTFYVKyej3",
        "outputId": "942e6e50-677d-428a-b81e-82ac5d3a2b8e"
      },
      "execution_count": null,
      "outputs": [
        {
          "output_type": "stream",
          "name": "stderr",
          "text": [
            "/usr/local/lib/python3.8/dist-packages/sklearn/base.py:450: UserWarning: X does not have valid feature names, but LinearRegression was fitted with feature names\n",
            "  warnings.warn(\n"
          ]
        },
        {
          "output_type": "execute_result",
          "data": {
            "text/plain": [
              "array([0.13148427])"
            ]
          },
          "metadata": {},
          "execution_count": 75
        }
      ]
    },
    {
      "cell_type": "markdown",
      "source": [
        "Saving the trained LinearRegression model as a binary file on disk using the pickle module."
      ],
      "metadata": {
        "id": "fK9kwG5eTW-R"
      }
    },
    {
      "cell_type": "code",
      "source": [
        "import pickle"
      ],
      "metadata": {
        "id": "SEbpgIdVHWC2"
      },
      "execution_count": null,
      "outputs": []
    },
    {
      "cell_type": "code",
      "source": [
        "filename = 'PredExitPoll.pkl'\n",
        "pickle.dump(regressor, open(filename, 'wb'))"
      ],
      "metadata": {
        "id": "0A5NFqeNHYlK"
      },
      "execution_count": null,
      "outputs": []
    },
    {
      "cell_type": "code",
      "source": [
        "loaded_model = pickle.load(open(filename,'rb'))\n",
        "loaded_model.predict(X_test)"
      ],
      "metadata": {
        "colab": {
          "base_uri": "https://localhost:8080/"
        },
        "id": "GPVpw3-kHu04",
        "outputId": "220799d2-3d6a-4bfa-cd6b-e87fbc445bf9"
      },
      "execution_count": null,
      "outputs": [
        {
          "output_type": "execute_result",
          "data": {
            "text/plain": [
              "array([0.3519084 , 0.53127141, 0.3239722 , ..., 0.49500156, 0.3346348 ,\n",
              "       0.15076586])"
            ]
          },
          "metadata": {},
          "execution_count": 74
        }
      ]
    }
  ]
}